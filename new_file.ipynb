{
 "cells": [
  {
   "cell_type": "code",
   "execution_count": 1,
   "id": "4a36203a-0049-4f67-82c5-f549992220bc",
   "metadata": {},
   "outputs": [],
   "source": [
    "import pandas as pd\n",
    "import os\n",
    "from sqlalchemy import create_engine\n",
    "import time\n",
    "import logging\n",
    "\n",
    "logging.basicConfig(\n",
    "    filename=\"logs/ingestion_db.log\",\n",
    "    level=logging.DEBUG,\n",
    "    format=\"%(asctime)s - %(levelname)s - %(message)s\",\n",
    "    filemode=\"a\"\n",
    ")\n",
    "\n",
    "engine = create_engine('sqlite:///inventory.db')\n",
    "\n",
    "def ingest_db(file_path, table_name, engine, chunksize=50000):\n",
    "    # Read CSV in chunks\n",
    "    for chunk in pd.read_csv(file_path, chunksize=chunksize):\n",
    "        chunk.to_sql(table_name, con=engine, if_exists='append', index=False)\n",
    "\n",
    "def load_raw_data():\n",
    "    start = time.time()\n",
    "    for file in os.listdir('data'):\n",
    "        if file.endswith('.csv'):\n",
    "            file_path = os.path.join('data', file)\n",
    "            logging.info(f'Ingesting {file} into db')\n",
    "            ingest_db(file_path, file[:-4], engine, chunksize=50000)\n",
    "    end = time.time()\n",
    "    total_time = (end - start) / 60\n",
    "    logging.info('--------------- Ingesting Complete ---------------')\n",
    "    logging.info(f'Total Time Taken: {total_time:.2f} minutes')\n",
    "\n",
    "if __name__ == '__main__':\n",
    "    load_raw_data()\n"
   ]
  },
  {
   "cell_type": "code",
   "execution_count": null,
   "id": "b6ee2eb0-61cb-4c40-b3f1-172160460873",
   "metadata": {},
   "outputs": [],
   "source": []
  }
 ],
 "metadata": {
  "kernelspec": {
   "display_name": "Python 3 (ipykernel)",
   "language": "python",
   "name": "python3"
  },
  "language_info": {
   "codemirror_mode": {
    "name": "ipython",
    "version": 3
   },
   "file_extension": ".py",
   "mimetype": "text/x-python",
   "name": "python",
   "nbconvert_exporter": "python",
   "pygments_lexer": "ipython3",
   "version": "3.13.2"
  }
 },
 "nbformat": 4,
 "nbformat_minor": 5
}
